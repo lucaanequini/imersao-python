{
 "cells": [
  {
   "cell_type": "code",
   "execution_count": null,
   "metadata": {},
   "outputs": [],
   "source": [
    "import pandas as pd\n",
    "import plotly.express as px"
   ]
  },
  {
   "cell_type": "code",
   "execution_count": null,
   "metadata": {},
   "outputs": [],
   "source": [
    "df_principal = pd.read_excel('acoes-perso.xlsx', sheet_name='Principal')\n",
    "df_principal"
   ]
  },
  {
   "cell_type": "code",
   "execution_count": null,
   "metadata": {},
   "outputs": [],
   "source": [
    "df_total_acoes = pd.read_excel('acoes-perso.xlsx', sheet_name='Total_de_acoes')\n",
    "df_total_acoes"
   ]
  },
  {
   "cell_type": "code",
   "execution_count": null,
   "metadata": {},
   "outputs": [],
   "source": [
    "df_tickers = pd.read_excel('acoes-perso.xlsx', sheet_name='Ticker')\n",
    "df_tickers"
   ]
  },
  {
   "cell_type": "code",
   "execution_count": null,
   "metadata": {},
   "outputs": [],
   "source": [
    "df_chatgpt = pd.read_excel('acoes-perso.xlsx', sheet_name='ChatGPT')\n",
    "df_chatgpt"
   ]
  },
  {
   "cell_type": "code",
   "execution_count": null,
   "metadata": {},
   "outputs": [],
   "source": [
    "df_principal = df_principal[['Ativo', 'Data', 'Último (R$)', 'Var. Dia (%)']].copy()\n",
    "df_principal"
   ]
  },
  {
   "cell_type": "code",
   "execution_count": null,
   "metadata": {},
   "outputs": [],
   "source": [
    "df_principal = df_principal.rename(columns={'Último (R$)':'valor_final', 'Var. Dia (%)':'var_dia_pct'}).copy()\n",
    "df_principal"
   ]
  },
  {
   "cell_type": "code",
   "execution_count": null,
   "metadata": {},
   "outputs": [],
   "source": [
    "df_principal['var_pct'] = df_principal['var_dia_pct'] / 100\n",
    "df_principal['valor_inicial'] = df_principal['valor_final'] / (df_principal['var_pct'] + 1)\n",
    "df_principal"
   ]
  },
  {
   "cell_type": "code",
   "execution_count": null,
   "metadata": {},
   "outputs": [],
   "source": [
    "df_principal = df_principal.merge(df_total_acoes, left_on='Ativo', right_on='Código', how='left')\n",
    "df_principal"
   ]
  },
  {
   "cell_type": "code",
   "execution_count": null,
   "metadata": {},
   "outputs": [],
   "source": [
    "df_principal = df_principal.drop(columns=['Código'])\n",
    "df_principal"
   ]
  },
  {
   "cell_type": "code",
   "execution_count": null,
   "metadata": {},
   "outputs": [],
   "source": [
    "df_principal['Variação_rs'] = (df_principal['valor_final'] - df_principal['valor_inicial']) * df_principal['Qtde. Teórica']\n",
    "df_principal"
   ]
  },
  {
   "cell_type": "code",
   "execution_count": null,
   "metadata": {},
   "outputs": [],
   "source": [
    "pd.options.display.float_format = '{:,.2f}'.format\n",
    "df_principal"
   ]
  },
  {
   "cell_type": "code",
   "execution_count": null,
   "metadata": {},
   "outputs": [],
   "source": [
    "df_principal['Qtde. Teórica'] = df_principal['Qtde. Teórica'].astype(int)\n",
    "df_principal"
   ]
  },
  {
   "cell_type": "code",
   "execution_count": null,
   "metadata": {},
   "outputs": [],
   "source": [
    "df_principal = df_principal.rename(columns={'Qtde. Teórica':'qtd_teorica'}).copy()\n",
    "df_principal"
   ]
  },
  {
   "cell_type": "code",
   "execution_count": null,
   "metadata": {},
   "outputs": [],
   "source": [
    "df_principal['Resultado'] = df_principal['Variação_rs'].apply(lambda x: 'Subiu' if x > 0 else ('Desceu' if x < 0 else 'Estável'))\n",
    "df_principal"
   ]
  },
  {
   "cell_type": "code",
   "execution_count": null,
   "metadata": {},
   "outputs": [],
   "source": [
    "df_principal = df_principal.merge(df_tickers, left_on='Ativo', right_on='Ticker', how='left')\n",
    "df_principal = df_principal.drop(columns=['Ticker'])\n",
    "df_principal"
   ]
  },
  {
   "cell_type": "code",
   "execution_count": null,
   "metadata": {},
   "outputs": [],
   "source": [
    "df_principal = df_principal.merge(df_chatgpt, left_on='Nome', right_on='Nomes das Empresas', how='left')\n",
    "df_principal = df_principal.drop(columns=['Nomes das Empresas'])\n",
    "df_principal"
   ]
  },
  {
   "cell_type": "code",
   "execution_count": null,
   "metadata": {},
   "outputs": [],
   "source": [
    "df_principal['cat_idade'] = df_principal['Idade'].apply(lambda x: 'Mais de 100' if x > 100 else ('Menos de 50' if x < 50 else 'Entre 50 e 100'))\n",
    "df_principal"
   ]
  },
  {
   "cell_type": "code",
   "execution_count": null,
   "metadata": {},
   "outputs": [],
   "source": [
    "pd.options.display.float_format = '{:,.2f}'.format\n",
    "\n",
    "maior = df_principal['Variação_rs'].max()\n",
    "menor = df_principal['Variação_rs'].min()\n",
    "media_total = df_principal['Variação_rs'].mean()\n",
    "\n",
    "media_subiu = df_principal[df_principal['Resultado'] == 'Subiu']['Variação_rs'].mean()\n",
    "media_desceu = df_principal[df_principal['Resultado'] == 'Desceu']['Variação_rs'].mean()\n",
    "\n",
    "print(f\"Maior\\tR$ {maior:,.2f}\")\n",
    "print(f\"Menor\\tR$ {menor:,.2f}\")\n",
    "print(f\"Média\\tR$ {media_total:,.2f}\")\n",
    "print(f\"Média de quem subiu\\tR$ {media_subiu:,.2f}\")\n",
    "print(f\"Média de quem desceu\\tR$ {media_desceu:,.2f}\")"
   ]
  },
  {
   "cell_type": "code",
   "execution_count": null,
   "metadata": {},
   "outputs": [],
   "source": [
    "df_principal_subiu = df_principal[df_principal['Resultado'] == 'Subiu']\n",
    "df_principal_subiu"
   ]
  },
  {
   "cell_type": "code",
   "execution_count": null,
   "metadata": {},
   "outputs": [],
   "source": [
    "df_analise_segmento = df_principal_subiu.groupby('Categoria')['Variação_rs'].sum().reset_index()\n",
    "df_analise_segmento"
   ]
  },
  {
   "cell_type": "code",
   "execution_count": null,
   "metadata": {},
   "outputs": [],
   "source": [
    "df_analise_saldo = df_principal.groupby('Resultado')['Variação_rs'].sum().reset_index()\n",
    "df_analise_saldo"
   ]
  },
  {
   "cell_type": "code",
   "execution_count": null,
   "metadata": {},
   "outputs": [],
   "source": [
    "fig = px.bar(df_analise_saldo, x='Resultado', y='Variação_rs', text='Variação_rs', title='Variação Reais por Resultado')\n",
    "fig.show()"
   ]
  },
  {
   "cell_type": "code",
   "execution_count": null,
   "metadata": {},
   "outputs": [],
   "source": []
  }
 ],
 "metadata": {
  "kernelspec": {
   "display_name": "base",
   "language": "python",
   "name": "python3"
  },
  "language_info": {
   "codemirror_mode": {
    "name": "ipython",
    "version": 3
   },
   "file_extension": ".py",
   "mimetype": "text/x-python",
   "name": "python",
   "nbconvert_exporter": "python",
   "pygments_lexer": "ipython3",
   "version": "3.10.9"
  }
 },
 "nbformat": 4,
 "nbformat_minor": 2
}
